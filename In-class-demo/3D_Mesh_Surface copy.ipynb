{
 "cells": [
  {
   "cell_type": "markdown",
   "metadata": {},
   "source": [
    "# An example 3D mesh surface"
   ]
  },
  {
   "cell_type": "code",
   "execution_count": null,
   "metadata": {},
   "outputs": [],
   "source": [
    "from mpl_toolkits.mplot3d import axes3d\n",
    "from matplotlib import cm\n",
    "import matplotlib.pyplot as plt\n",
    "import numpy as np"
   ]
  },
  {
   "cell_type": "code",
   "execution_count": null,
   "metadata": {},
   "outputs": [],
   "source": [
    "fig = plt.figure(figsize=(7,7))\n",
    "ax = fig.add_subplot(111, projection=\"3d\")\n",
    "x = np.linspace(0, 1 * np.pi, 200)\n",
    "y = np.linspace(0, 2 * np.pi,200)\n",
    "x, y = np.meshgrid(x, y)\n",
    "z = -np.sin(x) * np.sin(y)\n",
    "\n",
    "surf = ax.plot_surface(x, y, z, rstride=4, cstride=4, cmap=cm.coolwarm, alpha=0.7)\n",
    "\n",
    "fig.colorbar(surf, shrink=0.5, label=\"Z Label\")\n",
    "ax.plot_wireframe(x, y, z, rstride=10, cstride=10, linewidth=0.5, color=\"0.5\")\n",
    "cset = ax.contour(x, y ,z, zdir=\"z\", cmap=cm.coolwarm, offset= -1)\n",
    "\n",
    "ax.view_init(10)\n",
    "ax.set_xlabel(\"X Label\")\n",
    "ax.set_ylabel(\"Y Label\")\n",
    "\n",
    "ax.w_zaxis.line.set_lw(0.)\n",
    "ax.set_zticks([])\n",
    "\n",
    "plt.savefig(\"contour-surface.png\", bbox_inches=\"tight\", facecolor=\"white\")"
   ]
  },
  {
   "cell_type": "code",
   "execution_count": null,
   "metadata": {},
   "outputs": [],
   "source": []
  }
 ],
 "metadata": {
  "interpreter": {
   "hash": "3958d1411f63b2d009b2490df6fadbcb4a62f5742a86de18df97a0f96f1ecc92"
  },
  "kernelspec": {
   "display_name": "Python 3.10.4 64-bit",
   "language": "python",
   "name": "python3"
  },
  "language_info": {
   "codemirror_mode": {
    "name": "ipython",
    "version": 3
   },
   "file_extension": ".py",
   "mimetype": "text/x-python",
   "name": "python",
   "nbconvert_exporter": "python",
   "pygments_lexer": "ipython3",
   "version": "3.10.4"
  },
  "orig_nbformat": 4
 },
 "nbformat": 4,
 "nbformat_minor": 2
}
