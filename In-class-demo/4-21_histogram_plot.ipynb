{
 "cells": [
  {
   "cell_type": "code",
   "execution_count": 1,
   "metadata": {},
   "outputs": [],
   "source": [
    "import numpy as np\n",
    "import matplotlib.pyplot as plt"
   ]
  },
  {
   "cell_type": "code",
   "execution_count": 2,
   "metadata": {},
   "outputs": [
    {
     "data": {
      "image/png": "[encoded data removed]",
      "text/plain": [
       "<Figure size 432x288 with 1 Axes>"
      ]
     },
     "metadata": {
      "needs_background": "light"
     },
     "output_type": "display_data"
    }
   ],
   "source": [
    "## Create some random data\n",
    "\n",
    "n = 50000 # number of random data points to generate\n",
    "x = np.random.randn(n) # generate random data\n",
    "\n",
    "# create the histogram bins\n",
    "width = 0.5\n",
    "histMin = np.floor(min(x))\n",
    "histMax = np.ceil(max(x)) + width\n",
    "\n",
    "bins = np.arange(histMin, histMax, width)\n",
    "plt.hist(x, bins = bins, alpha = 0.5, edgecolor=\"black\")\n",
    "plt.ylabel(\"N per bin\")\n",
    "plt.xlabel(\"x\")\n",
    "plt.savefig(\"example-histo.png\", bbox_inches=\"tight\", facecolor = \"white\")"
   ]
  }
 ],
 "metadata": {
  "interpreter": {
   "hash": "3958d1411f63b2d009b2490df6fadbcb4a62f5742a86de18df97a0f96f1ecc92"
  },
  "kernelspec": {
   "display_name": "Python 3.10.4 64-bit",
   "language": "python",
   "name": "python3"
  },
  "language_info": {
   "codemirror_mode": {
    "name": "ipython",
    "version": 3
   },
   "file_extension": ".py",
   "mimetype": "text/x-python",
   "name": "python",
   "nbconvert_exporter": "python",
   "pygments_lexer": "ipython3",
   "version": "3.10.4"
  },
  "orig_nbformat": 4
 },
 "nbformat": 4,
 "nbformat_minor": 2
}
