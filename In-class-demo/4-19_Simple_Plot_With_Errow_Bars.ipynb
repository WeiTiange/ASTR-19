{
 "cells": [
  {
   "cell_type": "code",
   "execution_count": 1,
   "metadata": {},
   "outputs": [],
   "source": [
    "import numpy as np\n",
    "import matplotlib.pyplot as plt"
   ]
  },
  {
   "cell_type": "code",
   "execution_count": 2,
   "metadata": {},
   "outputs": [
    {
     "name": "stderr",
     "output_type": "stream",
     "text": [
      "C:\\Users\\yanle\\AppData\\Local\\Temp\\ipykernel_11596\\765753418.py:8: MatplotlibDeprecationWarning: savefig() got unexpected keyword argument \"bbox_intches\" which is no longer supported as of 3.3 and will become an error in 3.6\n",
      "  plt.savefig(\"error-bar-example.png\", bbox_intches=\"tight\", facecolor=\"white\")\n"
     ]
    },
    {
     "data": {
      "image/png": "[encoded data removed]",
      "text/plain": [
       "<Figure size 432x288 with 1 Axes>"
      ]
     },
     "metadata": {
      "needs_background": "light"
     },
     "output_type": "display_data"
    }
   ],
   "source": [
    "x = np.arange(10) + 2*np.random.randn(10)\n",
    "y = np.arange(10) + 2*np.random.randn(10)\n",
    "\n",
    "xerr = 2*np.random.random(10)\n",
    "yerr = 2*np.random.random(10)\n",
    "\n",
    "plt.errorbar(x,y,xerr=xerr,yerr=yerr, fmt=\"o\", color=\"green\")\n",
    "plt.savefig(\"error-bar-example.png\", bbox_inches=\"tight\", facecolor=\"white\")"
   ]
  },
  {
   "cell_type": "code",
   "execution_count": null,
   "metadata": {},
   "outputs": [],
   "source": []
  }
 ],
 "metadata": {
  "interpreter": {
   "hash": "3958d1411f63b2d009b2490df6fadbcb4a62f5742a86de18df97a0f96f1ecc92"
  },
  "kernelspec": {
   "display_name": "Python 3.10.4 64-bit",
   "language": "python",
   "name": "python3"
  },
  "language_info": {
   "codemirror_mode": {
    "name": "ipython",
    "version": 3
   },
   "file_extension": ".py",
   "mimetype": "text/x-python",
   "name": "python",
   "nbconvert_exporter": "python",
   "pygments_lexer": "ipython3",
   "version": "3.10.4"
  },
  "orig_nbformat": 4
 },
 "nbformat": 4,
 "nbformat_minor": 2
}
