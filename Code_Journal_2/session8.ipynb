{
 "cells": [
  {
   "cell_type": "code",
   "execution_count": null,
   "metadata": {},
   "outputs": [],
   "source": [
    "import numpy as np\n",
    "import matplotlib.pyplot as plt"
   ]
  },
  {
   "cell_type": "code",
   "execution_count": null,
   "metadata": {},
   "outputs": [],
   "source": [
    "x = np.linspace(0, 1, 100)\n",
    "\n",
    "def sin(x):\n",
    "    return np.sin(x)\n",
    "\n",
    "def cos(x):\n",
    "    return np.cos(x)"
   ]
  },
  {
   "cell_type": "code",
   "execution_count": null,
   "metadata": {},
   "outputs": [],
   "source": [
    "f, axarr = plt.subplots(1,2)\n",
    "\n",
    "# column 1 \n",
    "axarr[0].plot(sin(x), x)\n",
    "axarr[0].set_xlabel(r\"$sin(x)$\")\n",
    "axarr[0].set_ylabel(r\"$x$\")\n",
    "axarr[0].set_title(r\"$sin(x)$\")\n",
    "\n",
    "\n",
    "# column 2\n",
    "axarr[1].plot(cos(x), x)\n",
    "axarr[1].set_xlabel(r\"$cos(x)$\")\n",
    "axarr[1].set_ylabel(r\"$x$\")\n",
    "axarr[1].set_title(r\"$cos(x)$\")\n",
    "\n",
    "f.subplots_adjust(wspace=0.5)\n",
    "f.savefig(\"session8.pdf\")\n"
   ]
  },
  {
   "cell_type": "code",
   "execution_count": null,
   "metadata": {},
   "outputs": [],
   "source": []
  }
 ],
 "metadata": {
  "interpreter": {
   "hash": "3958d1411f63b2d009b2490df6fadbcb4a62f5742a86de18df97a0f96f1ecc92"
  },
  "kernelspec": {
   "display_name": "Python 3.10.4 64-bit",
   "language": "python",
   "name": "python3"
  },
  "language_info": {
   "codemirror_mode": {
    "name": "ipython",
    "version": 3
   },
   "file_extension": ".py",
   "mimetype": "text/x-python",
   "name": "python",
   "nbconvert_exporter": "python",
   "pygments_lexer": "ipython3",
   "version": "3.10.4"
  },
  "orig_nbformat": 4
 },
 "nbformat": 4,
 "nbformat_minor": 2
}
