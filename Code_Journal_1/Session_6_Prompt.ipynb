{
 "cells": [
  {
   "cell_type": "markdown",
   "metadata": {},
   "source": [
    "###### import libs"
   ]
  },
  {
   "cell_type": "code",
   "execution_count": 1,
   "metadata": {},
   "outputs": [],
   "source": [
    "import numpy as np"
   ]
  },
  {
   "cell_type": "markdown",
   "metadata": {},
   "source": [
    "###### Define function that returns sin(x)"
   ]
  },
  {
   "cell_type": "code",
   "execution_count": 2,
   "metadata": {},
   "outputs": [],
   "source": [
    "def SinX(x):\n",
    "    return np.sin(x)"
   ]
  },
  {
   "cell_type": "markdown",
   "metadata": {},
   "source": [
    "###### Define function that returns cos(x)"
   ]
  },
  {
   "cell_type": "code",
   "execution_count": 3,
   "metadata": {},
   "outputs": [],
   "source": [
    "def CosX(x):\n",
    "    return np.cos(x)"
   ]
  },
  {
   "cell_type": "markdown",
   "metadata": {},
   "source": [
    "###### Create x, print the first 10 of x, sin(x), and cos(x) using for-loop and f string"
   ]
  },
  {
   "cell_type": "code",
   "execution_count": 4,
   "metadata": {},
   "outputs": [
    {
     "name": "stdout",
     "output_type": "stream",
     "text": [
      "X                             Sin(X)                        Cos(X)                        \n",
      "0.0                           0.0                           1.0                           \n",
      "0.006289474781961547          0.006289433316067751          0.9999802213186832            \n",
      "0.012578949563923095          0.012578617838741058          0.9999208860571255            \n",
      "0.018868424345884642          0.01886730478446709           0.9998219965624732            \n",
      "0.02515789912784619           0.025155245389375847          0.9996835567465339            \n",
      "0.03144737390980774           0.0314421909191206            0.9995055720856215            \n",
      "0.037736848691769284          0.03772789267871718           0.99928804962034              \n",
      "0.04402632347373083           0.04401210202238166           0.9990309979553044            \n",
      "0.05031579825569238           0.05029457036336618           0.9987344272588006            \n",
      "0.056605273037653926          0.056575049183792345          0.9983983492623831            \n"
     ]
    }
   ],
   "source": [
    "x = np.linspace(0, 2 * np.pi, 1000)\n",
    "\n",
    "print(f\"{'X' : <30}{'Sin(X)' : <30}{'Cos(X)' : <30}\")\n",
    "for i in range(10):\n",
    "    print(f\"{x[i] : <30}{SinX(x)[i] : <30}{CosX(x)[i] : <30}\")"
   ]
  }
 ],
 "metadata": {
  "interpreter": {
   "hash": "3958d1411f63b2d009b2490df6fadbcb4a62f5742a86de18df97a0f96f1ecc92"
  },
  "kernelspec": {
   "display_name": "Python 3.10.4 64-bit",
   "language": "python",
   "name": "python3"
  },
  "language_info": {
   "codemirror_mode": {
    "name": "ipython",
    "version": 3
   },
   "file_extension": ".py",
   "mimetype": "text/x-python",
   "name": "python",
   "nbconvert_exporter": "python",
   "pygments_lexer": "ipython3",
   "version": "3.10.4"
  },
  "orig_nbformat": 4
 },
 "nbformat": 4,
 "nbformat_minor": 2
}
